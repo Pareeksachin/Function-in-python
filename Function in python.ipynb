{
 "cells": [
  {
   "cell_type": "code",
   "execution_count": null,
   "metadata": {},
   "outputs": [],
   "source": [
    "# function : it is a similar to a program that consists of a group of statement that are intended to perform a specific task"
   ]
  },
  {
   "cell_type": "code",
   "execution_count": null,
   "metadata": {},
   "outputs": [],
   "source": [
    "# fucntion can :\n",
    "#              ---reusability ,avoid can redundancy ,func can provide modularity,easy code maintenance,code debbuging become easy,,reduce length of code\n"
   ]
  },
  {
   "cell_type": "code",
   "execution_count": null,
   "metadata": {},
   "outputs": [],
   "source": [
    "# when a func defined inside a class it will become 'method'\n",
    "# function body can contain group of statement called 'suite'\n",
    "# first statement in the function body is called docstring and docstring is string that gives information about the function\n",
    "# ---it is written in the \"\"\" \"\"\"\n",
    "# python provide dynamic typing feature ---- dynamic typing : type of data is determined only during runtime\n",
    "# python provides multiple return values features"
   ]
  },
  {
   "cell_type": "raw",
   "metadata": {},
   "source": []
  },
  {
   "cell_type": "code",
   "execution_count": 10,
   "metadata": {},
   "outputs": [
    {
     "name": "stdout",
     "output_type": "stream",
     "text": [
      "factorial of 1 is 1 \n",
      "factorial of 2 is 2 \n",
      "factorial of 3 is 6 \n",
      "factorial of 4 is 24 \n",
      "factorial of 5 is 120 \n",
      "factorial of 6 is 720 \n",
      "factorial of 7 is 5040 \n",
      "factorial of 8 is 40320 \n",
      "factorial of 9 is 362880 \n",
      "factorial of 10 is 3628800 \n"
     ]
    }
   ],
   "source": [
    "# a python programe to calculate factorial value\n",
    "def fact(n):\n",
    "    prod=1\n",
    "    while n>=1:\n",
    "        prod=prod*n\n",
    "        n=n-1\n",
    "    return prod\n",
    "for i in range(1,11):\n",
    "    print(\"factorial of {} is {} \".format(i,fact(i)))\n",
    "        "
   ]
  },
  {
   "cell_type": "code",
   "execution_count": 14,
   "metadata": {},
   "outputs": [
    {
     "name": "stdout",
     "output_type": "stream",
     "text": [
      "120\n"
     ]
    }
   ],
   "source": [
    "def fact(n):\n",
    "    prod=1\n",
    "    while n>=1:\n",
    "        prod=prod*n\n",
    "        n=n-1\n",
    "    return prod\n",
    "n=5\n",
    "print(fact(n))\n",
    "\n"
   ]
  },
  {
   "cell_type": "code",
   "execution_count": 13,
   "metadata": {},
   "outputs": [
    {
     "name": "stdout",
     "output_type": "stream",
     "text": [
      "120\n"
     ]
    }
   ],
   "source": [
    "def factorial(num):\n",
    "    if num==0:\n",
    "        print(\"factorail is 1\")\n",
    "    elif num<0:\n",
    "        print(\"no factorial of {}\".format(num))\n",
    "    else:\n",
    "        factorial=1\n",
    "        while num>1:\n",
    "            factorial=factorial*num\n",
    "            num=num-1\n",
    "        return factorial\n",
    "num=5\n",
    "print(factorial(num))"
   ]
  },
  {
   "cell_type": "code",
   "execution_count": null,
   "metadata": {},
   "outputs": [],
   "source": []
  },
  {
   "cell_type": "code",
   "execution_count": 20,
   "metadata": {},
   "outputs": [
    {
     "name": "stdout",
     "output_type": "stream",
     "text": [
      "enter any number: 5\n",
      "120\n"
     ]
    }
   ],
   "source": [
    "n=int(input(\"enter any number: \"))\n",
    "prod=1\n",
    "for i in range(1,n+1):\n",
    "    prod=prod*i\n",
    "print(prod)"
   ]
  },
  {
   "cell_type": "code",
   "execution_count": 4,
   "metadata": {},
   "outputs": [
    {
     "name": "stdout",
     "output_type": "stream",
     "text": [
      "enter any number:5\n",
      "number 5 is prime number\n",
      "number 5 is prime number\n",
      "number 5 is prime number\n"
     ]
    }
   ],
   "source": [
    "# write a program to check if a given number is prime or not\n",
    "def prime(n):\n",
    "    for i in range(2,n):\n",
    "        if n%i==0:\n",
    "            print(\"number {} is not prime number\".format(n))\n",
    "        else:\n",
    "            print(\"number {} is prime number\".format(n))\n",
    "            \n",
    "    \n",
    "s=int(input(\"enter any number:\"))\n",
    "prime(s)"
   ]
  },
  {
   "cell_type": "code",
   "execution_count": null,
   "metadata": {},
   "outputs": [],
   "source": [
    "# too avoid this repeat printing problem we use x=1 if n is prime and ||||| x=0 if n is not prime"
   ]
  },
  {
   "cell_type": "code",
   "execution_count": 7,
   "metadata": {},
   "outputs": [
    {
     "name": "stdout",
     "output_type": "stream",
     "text": [
      "enter any number:23\n",
      "number 23 is not prime\n"
     ]
    }
   ],
   "source": [
    "# write a program to check if a given number is prime or not\n",
    "def prime(n):\n",
    "    x=1\n",
    "    for i in range(2,n):\n",
    "        if n%i==0:\n",
    "            x=0\n",
    "            break\n",
    "        else:\n",
    "            x=1\n",
    "    return x      \n",
    "    \n",
    "s=int(input(\"enter any number:\"))\n",
    "result=prime(s)\n",
    "if result==1:\n",
    "    print(\"number {} is not prime\".format(s))\n",
    "else:\n",
    "    print(\"number {} is prime\".format(s))"
   ]
  },
  {
   "cell_type": "code",
   "execution_count": null,
   "metadata": {},
   "outputs": [
    {
     "name": "stdout",
     "output_type": "stream",
     "text": [
      "How many prime number do you want?1\n",
      "2\n",
      "3\n"
     ]
    }
   ],
   "source": [
    "def prime(n):\n",
    "    x=1\n",
    "    for i in range(2,n):\n",
    "        if n%i==0:\n",
    "            x=0\n",
    "            break\n",
    "        else:\n",
    "            x=1\n",
    "    return x      \n",
    "num=int(input(\"How many prime number do you want?\"))\n",
    "i=2\n",
    "while True:\n",
    "    if prime(i):\n",
    "        print(i)\n",
    "        i=i+1\n",
    "        \n"
   ]
  },
  {
   "cell_type": "code",
   "execution_count": 9,
   "metadata": {},
   "outputs": [
    {
     "name": "stdout",
     "output_type": "stream",
     "text": [
      "11\n",
      "13\n",
      "17\n",
      "19\n",
      "23\n"
     ]
    }
   ],
   "source": [
    "# Python program to print all \n",
    "# prime number in an interval \n",
    "\n",
    "start = 11\n",
    "end = 25\n",
    "\n",
    "for val in range(start, end + 1): \n",
    "    if val > 1: \n",
    "        for n in range(2, val): \n",
    "            if (val % n) == 0:\n",
    "                break\n",
    "            else: \n",
    "                if n == val//2 + 1: \n",
    "                    print(val) \n",
    "\n"
   ]
  },
  {
   "cell_type": "code",
   "execution_count": 3,
   "metadata": {},
   "outputs": [
    {
     "name": "stdout",
     "output_type": "stream",
     "text": [
      "55\n"
     ]
    }
   ],
   "source": [
    "s=111//2\n",
    "print(s)"
   ]
  },
  {
   "cell_type": "code",
   "execution_count": 7,
   "metadata": {},
   "outputs": [
    {
     "name": "stdout",
     "output_type": "stream",
     "text": [
      "11\n",
      "13\n",
      "17\n",
      "19\n",
      "23\n"
     ]
    }
   ],
   "source": [
    "start = 11\n",
    "end = 25\n",
    "  \n",
    "for val in range(start, end + 1): \n",
    "    if val > 1: \n",
    "        for n in range(2, val): \n",
    "            if (val % n) == 0: \n",
    "                break\n",
    "            else: \n",
    "                if n == val//2 + 1: \n",
    "                    print(val) \n"
   ]
  },
  {
   "cell_type": "code",
   "execution_count": 1,
   "metadata": {},
   "outputs": [
    {
     "name": "stdout",
     "output_type": "stream",
     "text": [
      "How many prime number do you want?20\n",
      "2\n",
      "3\n",
      "5\n",
      "7\n",
      "11\n",
      "13\n",
      "17\n",
      "19\n",
      "23\n",
      "29\n",
      "31\n",
      "37\n",
      "41\n",
      "43\n",
      "47\n",
      "53\n",
      "59\n",
      "61\n",
      "67\n",
      "71\n",
      "73\n"
     ]
    }
   ],
   "source": [
    "def prime(n):\n",
    "    x=1\n",
    "    for i in range(2,n):\n",
    "        if n%i==0:\n",
    "            x=0\n",
    "            break\n",
    "        else:\n",
    "            x=1\n",
    "    return x      \n",
    "num=int(input(\"How many prime number do you want?\"))\n",
    "i=2\n",
    "c=0\n",
    "while True:\n",
    "    if prime(i):\n",
    "        print(i)\n",
    "        c=c+1\n",
    "    i=i+1\n",
    "    if c>num:\n",
    "        break\n",
    "    \n",
    "        \n"
   ]
  },
  {
   "cell_type": "code",
   "execution_count": 1,
   "metadata": {},
   "outputs": [],
   "source": [
    "# keyword variable length argument : is an argument that accepts any number of values in the format of keys and values\n",
    "#------ **kwarg argument internally represents a dictionary object \n",
    "# a python programe to understand the keyword variable argument"
   ]
  },
  {
   "cell_type": "code",
   "execution_count": 8,
   "metadata": {},
   "outputs": [
    {
     "name": "stdout",
     "output_type": "stream",
     "text": [
      "formal argument = 10\n",
      "key=name,value=sachin\n",
      "formal argument = 30\n",
      "key=roll,value=129389\n",
      "key=name,value=prakash\n"
     ]
    }
   ],
   "source": [
    "def display(farg,**kwargs):\n",
    "    print(\"formal argument =\",farg)\n",
    "    for x,y in kwargs.items():\n",
    "        print('key={},value={}'.format(x,y))\n",
    "    \n",
    "display(10,name='sachin')\n",
    "display(30,roll = 129389,name='prakash')"
   ]
  },
  {
   "cell_type": "code",
   "execution_count": 9,
   "metadata": {},
   "outputs": [
    {
     "name": "stdout",
     "output_type": "stream",
     "text": [
      "a= 1\n"
     ]
    },
    {
     "ename": "NameError",
     "evalue": "name 'a' is not defined",
     "output_type": "error",
     "traceback": [
      "\u001b[1;31m---------------------------------------------------------------------------\u001b[0m",
      "\u001b[1;31mNameError\u001b[0m                                 Traceback (most recent call last)",
      "\u001b[1;32m<ipython-input-9-294c8a9a54a5>\u001b[0m in \u001b[0;36m<module>\u001b[1;34m\u001b[0m\n\u001b[0;32m      4\u001b[0m     \u001b[0mprint\u001b[0m\u001b[1;33m(\u001b[0m\u001b[1;34m\"a=\"\u001b[0m\u001b[1;33m,\u001b[0m\u001b[0ma\u001b[0m\u001b[1;33m)\u001b[0m\u001b[1;33m\u001b[0m\u001b[1;33m\u001b[0m\u001b[0m\n\u001b[0;32m      5\u001b[0m \u001b[0mmyfunction\u001b[0m\u001b[1;33m(\u001b[0m\u001b[1;33m)\u001b[0m\u001b[1;33m\u001b[0m\u001b[1;33m\u001b[0m\u001b[0m\n\u001b[1;32m----> 6\u001b[1;33m \u001b[0mprint\u001b[0m\u001b[1;33m(\u001b[0m\u001b[1;34m\"a=\"\u001b[0m\u001b[1;33m,\u001b[0m\u001b[0ma\u001b[0m\u001b[1;33m)\u001b[0m\u001b[1;33m\u001b[0m\u001b[1;33m\u001b[0m\u001b[0m\n\u001b[0m",
      "\u001b[1;31mNameError\u001b[0m: name 'a' is not defined"
     ]
    }
   ],
   "source": [
    "# local variable : access only inside the function\n",
    "# ----- define inside the function\n",
    "def myfunction():\n",
    "    a=1\n",
    "    print(\"a=\",a)\n",
    "myfunction()\n",
    "print(\"a=\",a)"
   ]
  },
  {
   "cell_type": "code",
   "execution_count": 10,
   "metadata": {},
   "outputs": [
    {
     "name": "stdout",
     "output_type": "stream",
     "text": [
      "a= 2\n",
      "b= 1\n",
      "a= 2\n"
     ]
    }
   ],
   "source": [
    "# global variable : access inside or outside the function\n",
    "a=2 # global variable\n",
    "def myfunction():\n",
    "    b=1 # local variable\n",
    "    print(\"a=\",a)\n",
    "    print(\"b=\",b)\n",
    "myfunction()\n",
    "print(\"a=\",a)"
   ]
  },
  {
   "cell_type": "code",
   "execution_count": 12,
   "metadata": {},
   "outputs": [
    {
     "name": "stdout",
     "output_type": "stream",
     "text": [
      "a= 1\n",
      " global a= 2\n"
     ]
    }
   ],
   "source": [
    "# if we have same variable name of local and globle variable\n",
    "# then inside the function local var ignore the global var\n",
    "a=2\n",
    "def myfunction():\n",
    "    a=1\n",
    "    print(\"a=\",a) # display local var\n",
    "myfunction()\n",
    "print(\" global a=\",a) # display global var"
   ]
  },
  {
   "cell_type": "code",
   "execution_count": 14,
   "metadata": {},
   "outputs": [
    {
     "name": "stdout",
     "output_type": "stream",
     "text": [
      "global a= 3\n",
      "a= 2\n",
      "a= 2\n"
     ]
    }
   ],
   "source": [
    "# if we want to access the global var inside the function then we have to use global keyword \n",
    "# here, it ignores the local var inside\n",
    "a=3\n",
    "def myfunction():\n",
    "    global a\n",
    "    print(\"global a=\",a) # now it display global variable\n",
    "    a=2 # it modify the global value \n",
    "    print(\"a=\",a) # display modified global value\n",
    "myfunction()\n",
    "print(\"a=\",a) # display modified  global var"
   ]
  },
  {
   "cell_type": "code",
   "execution_count": 15,
   "metadata": {},
   "outputs": [
    {
     "name": "stdout",
     "output_type": "stream",
     "text": [
      "local a= 1\n",
      "global b= 5\n",
      "global a= 5\n"
     ]
    }
   ],
   "source": [
    "# if we want to access local and global var both then we have to create a new object using globals()['var'] and store the global var\n",
    "a=5\n",
    "def myfunction():\n",
    "    a=1# local var\n",
    "    print(\"local a=\",a) # prints local var\n",
    "    b=globals()['a'] # store global var in to the b object\n",
    "    print(\"global b=\",b)\n",
    "myfunction()\n",
    "print(\"global a=\",a)"
   ]
  },
  {
   "cell_type": "code",
   "execution_count": 22,
   "metadata": {},
   "outputs": [
    {
     "name": "stdout",
     "output_type": "stream",
     "text": [
      "Enter values: 10 20 30\n",
      "sum is : 60\n",
      "average  is: 20.0\n"
     ]
    }
   ],
   "source": [
    "# passing a group of elements in a function \n",
    "# a function that accepts a group of numbers and find their total and average\n",
    "def calculate(lst):\n",
    "    n=len(lst)\n",
    "    sum=0\n",
    "    for i in lst:\n",
    "        sum=sum+i\n",
    "        avg=sum/n\n",
    "    return sum,avg\n",
    "lst=[int(x) for x in input(\"Enter values: \").split()]\n",
    "x,y=calculate(lst)\n",
    "print(\"sum is :\",x)\n",
    "print(\"average  is:\",y)"
   ]
  },
  {
   "cell_type": "code",
   "execution_count": 23,
   "metadata": {},
   "outputs": [],
   "source": [
    "# functions are first class object : beacuse we can use a function as a argument and we can define one function inside another function\n",
    "# -------- and we can pass one function inside another function and and we can return function also"
   ]
  },
  {
   "cell_type": "code",
   "execution_count": 25,
   "metadata": {},
   "outputs": [
    {
     "name": "stdout",
     "output_type": "stream",
     "text": [
      "Hai sachin\n"
     ]
    }
   ],
   "source": [
    "# 1. a python programe to assign a variable to  a function\n",
    "def display(str):\n",
    "    return 'Hai'+' '+str\n",
    "x=display(\"sachin\")\n",
    "print(x)"
   ]
  },
  {
   "cell_type": "code",
   "execution_count": 26,
   "metadata": {},
   "outputs": [
    {
     "name": "stdout",
     "output_type": "stream",
     "text": [
      "sachinhow are u ?\n"
     ]
    }
   ],
   "source": [
    "# 2. how to define a function inside another function\n",
    "def display(str):\n",
    "    def message():\n",
    "        return \"how are u ?\"\n",
    "    result=str+message()\n",
    "    return result\n",
    "    \n",
    "        \n",
    "        \n",
    "        \n",
    "print(display(\"sachin\"))"
   ]
  },
  {
   "cell_type": "code",
   "execution_count": 27,
   "metadata": {},
   "outputs": [
    {
     "name": "stdout",
     "output_type": "stream",
     "text": [
      "hai how are you? \n"
     ]
    }
   ],
   "source": [
    "# how to pass a function a function as parameters to another function\n",
    "def display(fun):\n",
    "    return 'hai'+' '+fun\n",
    "def message():\n",
    "    return \"how are you? \"\n",
    "print(display(message()))"
   ]
  },
  {
   "cell_type": "code",
   "execution_count": 28,
   "metadata": {},
   "outputs": [
    {
     "name": "stdout",
     "output_type": "stream",
     "text": [
      "how are you ?\n"
     ]
    }
   ],
   "source": [
    "# how a function can return another function \n",
    "def display():\n",
    "    def message():\n",
    "        return \"how are you ?\"\n",
    "    return message\n",
    "fun=display()\n",
    "print(fun())"
   ]
  },
  {
   "cell_type": "code",
   "execution_count": 32,
   "metadata": {},
   "outputs": [
    {
     "name": "stdout",
     "output_type": "stream",
     "text": [
      "5 6 7 8 9 10 "
     ]
    }
   ],
   "source": [
    "# Generator function in python\n",
    "# generator function : that returns a sequence of value and it is written like a ordinary function but it uses 'yield' statement\n",
    "# ------ which return a sequnece of value\n",
    "# A python programe to create a generator that returns a sequence of numbers\n",
    "def mygen(x,y):\n",
    "    while x<=y:\n",
    "        yield x\n",
    "        x=x+1\n",
    "\n",
    "g=mygen(5,10)\n",
    "for i in g:\n",
    "    print(i,end=' ')"
   ]
  },
  {
   "cell_type": "code",
   "execution_count": null,
   "metadata": {},
   "outputs": [],
   "source": [
    "# once the obj is created ,we can store the elements of the generator into a list and use the list as we want\n",
    "#-----------lst=list(g)"
   ]
  },
  {
   "cell_type": "code",
   "execution_count": null,
   "metadata": {},
   "outputs": [],
   "source": [
    "#if we want to retrive element by element from a generator object ,we can use next(g) function"
   ]
  },
  {
   "cell_type": "code",
   "execution_count": 33,
   "metadata": {},
   "outputs": [
    {
     "name": "stdout",
     "output_type": "stream",
     "text": [
      "A\n",
      "B\n",
      "C\n"
     ]
    },
    {
     "ename": "StopIteration",
     "evalue": "",
     "output_type": "error",
     "traceback": [
      "\u001b[1;31m---------------------------------------------------------------------------\u001b[0m",
      "\u001b[1;31mStopIteration\u001b[0m                             Traceback (most recent call last)",
      "\u001b[1;32m<ipython-input-33-8ed772a4bba8>\u001b[0m in \u001b[0;36m<module>\u001b[1;34m\u001b[0m\n\u001b[0;32m      8\u001b[0m \u001b[0mprint\u001b[0m\u001b[1;33m(\u001b[0m\u001b[0mnext\u001b[0m\u001b[1;33m(\u001b[0m\u001b[0mg\u001b[0m\u001b[1;33m)\u001b[0m\u001b[1;33m)\u001b[0m\u001b[1;33m\u001b[0m\u001b[1;33m\u001b[0m\u001b[0m\n\u001b[0;32m      9\u001b[0m \u001b[0mprint\u001b[0m\u001b[1;33m(\u001b[0m\u001b[0mnext\u001b[0m\u001b[1;33m(\u001b[0m\u001b[0mg\u001b[0m\u001b[1;33m)\u001b[0m\u001b[1;33m)\u001b[0m\u001b[1;33m\u001b[0m\u001b[1;33m\u001b[0m\u001b[0m\n\u001b[1;32m---> 10\u001b[1;33m \u001b[0mprint\u001b[0m\u001b[1;33m(\u001b[0m\u001b[0mnext\u001b[0m\u001b[1;33m(\u001b[0m\u001b[0mg\u001b[0m\u001b[1;33m)\u001b[0m\u001b[1;33m)\u001b[0m\u001b[1;33m\u001b[0m\u001b[1;33m\u001b[0m\u001b[0m\n\u001b[0m",
      "\u001b[1;31mStopIteration\u001b[0m: "
     ]
    }
   ],
   "source": [
    "# a generator that returns character from A to C\n",
    "def mygen():\n",
    "    yield 'A'\n",
    "    yield 'B'\n",
    "    yield 'C'\n",
    "g=mygen()\n",
    "print(next(g))\n",
    "print(next(g))\n",
    "print(next(g))\n",
    "print(next(g))\n",
    "# the yield statement return the element from a generator function in to a generator object"
   ]
  },
  {
   "cell_type": "code",
   "execution_count": null,
   "metadata": {},
   "outputs": [],
   "source": []
  }
 ],
 "metadata": {
  "kernelspec": {
   "display_name": "Python 3",
   "language": "python",
   "name": "python3"
  },
  "language_info": {
   "codemirror_mode": {
    "name": "ipython",
    "version": 3
   },
   "file_extension": ".py",
   "mimetype": "text/x-python",
   "name": "python",
   "nbconvert_exporter": "python",
   "pygments_lexer": "ipython3",
   "version": "3.7.4"
  }
 },
 "nbformat": 4,
 "nbformat_minor": 2
}
